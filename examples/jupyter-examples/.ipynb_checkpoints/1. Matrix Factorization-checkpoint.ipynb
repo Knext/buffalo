{
 "cells": [
  {
   "cell_type": "markdown",
   "metadata": {},
   "source": [
    "## 1. Matrix Factorization\n",
    "In this notebook, we show how to run [ALS](http://yifanhu.net/PUB/cf.pdf) and [BPR-MF](https://arxiv.org/pdf/1205.2618.pdf) with Buffalo"
   ]
  },
  {
   "cell_type": "code",
   "execution_count": 1,
   "metadata": {},
   "outputs": [],
   "source": [
    "import buffalo\n",
    "from buffalo import ALS, BPRMF\n",
    "from buffalo import aux, log\n",
    "from buffalo import ALSOption, BPRMFOption\n",
    "from buffalo import MatrixMarketOptions\n",
    "log.set_log_level(1) # set log level 3 or higher to check more information"
   ]
  },
  {
   "cell_type": "code",
   "execution_count": 2,
   "metadata": {},
   "outputs": [],
   "source": [
    "MODEL_TO_USE = \"ALS\"\n",
    "# MODEL_TO_USE = \"BPR\"# un-comment this if you want to use BPR"
   ]
  },
  {
   "cell_type": "markdown",
   "metadata": {},
   "source": [
    "### To Run buffalo model, you have to set two options.\n",
    "    - model option\n",
    "    - data option"
   ]
  },
  {
   "cell_type": "markdown",
   "metadata": {},
   "source": [
    "### Model Option"
   ]
  },
  {
   "cell_type": "code",
   "execution_count": 3,
   "metadata": {},
   "outputs": [],
   "source": [
    "if MODEL_TO_USE == \"ALS\":\n",
    "    opt = ALSOption().get_default_option()  \n",
    "elif MODEL_TO_USE == \"BPR\":\n",
    "    opt = BPRMFOption().get_default_option()"
   ]
  },
  {
   "cell_type": "markdown",
   "metadata": {},
   "source": [
    "you may change other the option values\n",
    "```\n",
    "   opt.key = val\n",
    "```"
   ]
  },
  {
   "cell_type": "markdown",
   "metadata": {},
   "source": [
    "for example, one can set validation option."
   ]
  },
  {
   "cell_type": "code",
   "execution_count": 4,
   "metadata": {},
   "outputs": [],
   "source": [
    "opt.evaluation_on_learning =  True\n",
    "opt.validation = aux.Option({'topk': 10})"
   ]
  },
  {
   "cell_type": "markdown",
   "metadata": {},
   "source": [
    "`opt.validation = aux.Option({'topk': 10})` means we evaluate the model using validation data by top@10 metric\n",
    "\n",
    "`opt.evaluation_on_learning =  True` makes Buffalo model do evaluation during training\n"
   ]
  },
  {
   "cell_type": "markdown",
   "metadata": {},
   "source": [
    "#### Options are shown below"
   ]
  },
  {
   "cell_type": "code",
   "execution_count": 5,
   "metadata": {
    "scrolled": true
   },
   "outputs": [
    {
     "data": {
      "text/plain": [
       "{'evaluation_on_learning': True,\n",
       " 'compute_loss_on_training': True,\n",
       " 'early_stopping_rounds': 0,\n",
       " 'save_best': False,\n",
       " 'evaluation_period': 1,\n",
       " 'save_period': 10,\n",
       " 'random_seed': 0,\n",
       " 'validation': {'topk': 10},\n",
       " 'adaptive_reg': False,\n",
       " 'save_factors': False,\n",
       " 'accelerator': False,\n",
       " 'd': 20,\n",
       " 'num_iters': 10,\n",
       " 'num_workers': 1,\n",
       " 'hyper_threads': 256,\n",
       " 'num_cg_max_iters': 3,\n",
       " 'reg_u': 0.1,\n",
       " 'reg_i': 0.1,\n",
       " 'alpha': 8,\n",
       " 'optimizer': 'manual_cg',\n",
       " 'cg_tolerance': 1e-10,\n",
       " 'block_size': 32,\n",
       " 'eps': 1e-10,\n",
       " 'model_path': '',\n",
       " 'data_opt': {}}"
      ]
     },
     "execution_count": 5,
     "metadata": {},
     "output_type": "execute_result"
    }
   ],
   "source": [
    "opt"
   ]
  },
  {
   "cell_type": "markdown",
   "metadata": {},
   "source": [
    "To see full description of options, see `Algooption`, `ALSOption`, and `BPROption` in `buffalo/algo/options.py`\n",
    "\n",
    "an option of one model is different from an option of other type of model"
   ]
  },
  {
   "cell_type": "markdown",
   "metadata": {},
   "source": [
    "### Data Option"
   ]
  },
  {
   "cell_type": "code",
   "execution_count": 6,
   "metadata": {},
   "outputs": [],
   "source": [
    "data_opt = MatrixMarketOptions().get_default_option()"
   ]
  },
  {
   "cell_type": "markdown",
   "metadata": {},
   "source": [
    "Similar to model option, data option can be set in this way.\n",
    "```\n",
    "    data_opt.key = val\n",
    "```\n",
    "\n",
    "\n",
    "You must set `data_opt.input.main` option.\n",
    "\n",
    "This should be the path of input data(matrix market or stream)"
   ]
  },
  {
   "cell_type": "code",
   "execution_count": 7,
   "metadata": {},
   "outputs": [],
   "source": [
    "data_opt.input.main = 'data/ml-1m/main.mtx'"
   ]
  },
  {
   "cell_type": "markdown",
   "metadata": {},
   "source": [
    "Additionally, we can set list of itemids, and list of userids also\n",
    "\n",
    "By doing so, you can query similar users/items or recommendations by itemids or userids."
   ]
  },
  {
   "cell_type": "code",
   "execution_count": 8,
   "metadata": {},
   "outputs": [],
   "source": [
    "data_opt.input.iid = 'data/ml-1m/iid'\n",
    "data_opt.input.uid = 'data/ml-1m/uid'"
   ]
  },
  {
   "cell_type": "code",
   "execution_count": 9,
   "metadata": {},
   "outputs": [
    {
     "data": {
      "text/plain": [
       "{'type': 'matrix_market',\n",
       " 'input': {'main': 'data/ml-1m/main.mtx',\n",
       "  'uid': 'data/ml-1m/uid',\n",
       "  'iid': 'data/ml-1m/iid'},\n",
       " 'data': {'internal_data_type': 'matrix',\n",
       "  'validation': {'name': 'sample', 'p': 0.01, 'max_samples': 500},\n",
       "  'batch_mb': 1024,\n",
       "  'use_cache': False,\n",
       "  'tmp_dir': '/tmp/',\n",
       "  'path': './mm.h5py',\n",
       "  'disk_based': False}}"
      ]
     },
     "execution_count": 9,
     "metadata": {},
     "output_type": "execute_result"
    }
   ],
   "source": [
    "data_opt"
   ]
  },
  {
   "cell_type": "markdown",
   "metadata": {},
   "source": [
    "### Open Data"
   ]
  },
  {
   "cell_type": "markdown",
   "metadata": {},
   "source": [
    "#### You can open data in two ways\n",
    "- open data when initializing model\n",
    "- open data directly\n",
    "\n",
    "There is no difference"
   ]
  },
  {
   "cell_type": "markdown",
   "metadata": {},
   "source": [
    "#### open data when initializing model"
   ]
  },
  {
   "cell_type": "code",
   "execution_count": 10,
   "metadata": {
    "scrolled": true
   },
   "outputs": [],
   "source": [
    "model = ALS(ALSOption().get_default_option(), data_opt=data_opt)\n",
    "del model"
   ]
  },
  {
   "cell_type": "markdown",
   "metadata": {},
   "source": [
    "it opens the data when loading model (indirect way)"
   ]
  },
  {
   "cell_type": "markdown",
   "metadata": {},
   "source": [
    "#### open data directly"
   ]
  },
  {
   "cell_type": "code",
   "execution_count": 11,
   "metadata": {},
   "outputs": [],
   "source": [
    "import buffalo"
   ]
  },
  {
   "cell_type": "code",
   "execution_count": 12,
   "metadata": {
    "scrolled": true
   },
   "outputs": [],
   "source": [
    "data = buffalo.data.load(data_opt)\n",
    "data.create()\n",
    "model = ALS(ALSOption().get_default_option(), data=data)\n",
    "del data\n",
    "del model"
   ]
  },
  {
   "cell_type": "markdown",
   "metadata": {},
   "source": [
    "it opens data dirctly, and passes the opened data to the model\n",
    "afterwards, we will use opened data "
   ]
  },
  {
   "cell_type": "code",
   "execution_count": 13,
   "metadata": {},
   "outputs": [],
   "source": [
    "data = buffalo.data.load(data_opt)\n",
    "data.create()"
   ]
  },
  {
   "cell_type": "code",
   "execution_count": 14,
   "metadata": {
    "scrolled": true
   },
   "outputs": [],
   "source": [
    "if MODEL_TO_USE == \"ALS\":\n",
    "    model = ALS(opt, data=data)\n",
    "elif MODEL_TO_USE == \"BPR\":\n",
    "    model = BPRMF(opt, data=data)\n",
    "model.initialize()"
   ]
  },
  {
   "cell_type": "code",
   "execution_count": 15,
   "metadata": {
    "scrolled": true
   },
   "outputs": [],
   "source": [
    "val_res = model.train()"
   ]
  },
  {
   "cell_type": "code",
   "execution_count": 16,
   "metadata": {},
   "outputs": [
    {
     "data": {
      "text/plain": [
       "{'train_loss': 0.2804447780030053,\n",
       " 'val_ndcg': 0.053509737512824056,\n",
       " 'val_map': 0.036605582307829496,\n",
       " 'val_accuracy': 0.10280898876404494,\n",
       " 'val_auc': 0.5500847197037205,\n",
       " 'val_rmse': 2.9060066759494854,\n",
       " 'val_error': 2.713486196756363}"
      ]
     },
     "execution_count": 16,
     "metadata": {},
     "output_type": "execute_result"
    }
   ],
   "source": [
    "val_res"
   ]
  },
  {
   "cell_type": "markdown",
   "metadata": {},
   "source": [
    "### Saving and Loading model"
   ]
  },
  {
   "cell_type": "code",
   "execution_count": 17,
   "metadata": {},
   "outputs": [
    {
     "name": "stdout",
     "output_type": "stream",
     "text": [
      "mkdir: model: File exists\r\n"
     ]
    }
   ],
   "source": [
    "!mkdir model"
   ]
  },
  {
   "cell_type": "code",
   "execution_count": 18,
   "metadata": {
    "scrolled": true
   },
   "outputs": [],
   "source": [
    "\n",
    "model.save(\"model/model-ml-1m\")\n",
    "del model\n",
    "if MODEL_TO_USE == \"ALS\":\n",
    "    model = ALS()\n",
    "elif MODEL_TO_USE == \"BPR\":\n",
    "    model = BPRMF()\n",
    "model.load(\"model/model-ml-1m\")"
   ]
  },
  {
   "cell_type": "markdown",
   "metadata": {},
   "source": [
    "### Recommendation for users"
   ]
  },
  {
   "cell_type": "code",
   "execution_count": 19,
   "metadata": {
    "scrolled": true
   },
   "outputs": [
    {
     "name": "stdout",
     "output_type": "stream",
     "text": [
      "for user 61, recommendations are  \n",
      "items ['Rules_of_Engagement_(2000)', 'Remember_the_Titans_(2000)', 'Skulls,_The_(2000)'].\n",
      "\n",
      "for user 62, recommendations are  \n",
      "items ['Midnight_in_the_Garden_of_Good_and_Evil_(1997)', 'Bonnie_and_Clyde_(1967)', 'Coming_Home_(1978)'].\n",
      "\n",
      "for user 63, recommendations are  \n",
      "items ['Eyes_Wide_Shut_(1999)', 'Summer_of_Sam_(1999)', 'Go_(1999)'].\n",
      "\n",
      "for user 64, recommendations are  \n",
      "items ['Jurassic_Park_(1993)', 'Braveheart_(1995)', 'Star_Wars:_Episode_VI_-_Return_of_the_Jedi_(1983)'].\n",
      "\n",
      "for user 65, recommendations are  \n",
      "items ['Air_Force_One_(1997)', 'Patriot,_The_(2000)', 'Backdraft_(1991)'].\n",
      "\n",
      "for user 66, recommendations are  \n",
      "items ['American_Beauty_(1999)', 'Star_Wars:_Episode_VI_-_Return_of_the_Jedi_(1983)', 'Braveheart_(1995)'].\n",
      "\n",
      "for user 67, recommendations are  \n",
      "items ['12_Angry_Men_(1957)', 'Grapes_of_Wrath,_The_(1940)', 'Bridge_on_the_River_Kwai,_The_(1957)'].\n",
      "\n",
      "for user 68, recommendations are  \n",
      "items ['Wrong_Trousers,_The_(1993)', 'Close_Shave,_A_(1995)', 'Grand_Day_Out,_A_(1992)'].\n",
      "\n",
      "for user 69, recommendations are  \n",
      "items ['Dead_Man_Walking_(1995)', 'Hamlet_(1996)', 'Malcolm_X_(1992)'].\n",
      "\n"
     ]
    }
   ],
   "source": [
    "uids = [str(x) for x in range(61, 70)]\n",
    "recommendation_result = model.topk_recommendation(uids, topk=3)\n",
    "for uid, iids in recommendation_result.items():\n",
    "    print(f\"for user {uid}, recommendations are \", f\"\\nitems {iids}.\\n\")"
   ]
  },
  {
   "cell_type": "markdown",
   "metadata": {},
   "source": [
    "### Recommendation for users in given pools"
   ]
  },
  {
   "cell_type": "code",
   "execution_count": 20,
   "metadata": {},
   "outputs": [
    {
     "name": "stdout",
     "output_type": "stream",
     "text": [
      "for user 1, recommendations are  \n",
      "items ['Shanghai_Noon_(2000)', 'Frequency_(2000)', 'Remember_the_Titans_(2000)'].\n",
      "\n",
      "for user 2, recommendations are  \n",
      "items ['Remember_the_Titans_(2000)', 'Rules_of_Engagement_(2000)', 'Frequency_(2000)'].\n",
      "\n",
      "for user 3, recommendations are  \n",
      "items ['Shanghai_Noon_(2000)', 'Frequency_(2000)', 'Remember_the_Titans_(2000)'].\n",
      "\n",
      "for user 4, recommendations are  \n",
      "items ['Shanghai_Noon_(2000)', 'Frequency_(2000)', 'Gone_in_60_Seconds_(2000)'].\n",
      "\n"
     ]
    }
   ],
   "source": [
    "pool = ['Rules_of_Engagement_(2000)', \n",
    "        'Remember_the_Titans_(2000)', \n",
    "        'Skulls,_The_(2000)', \n",
    "        '28_Days_(2000)', \n",
    "        'Frequency_(2000)', \n",
    "        'Gone_in_60_Seconds_(2000)', \n",
    "        'What_Lies_Beneath_(2000)', \n",
    "        'Reindeer_Games_(2000)', \n",
    "        'Final_Destination_(2000)', \n",
    "        'Shanghai_Noon_(2000)']\n",
    "uids = [str(x) for x in range(5)]\n",
    "recommendation_result = model.topk_recommendation(uids, topk=3, pool=pool)\n",
    "for uid, iids in recommendation_result.items():\n",
    "    print(f\"for user {uid}, recommendations are \", f\"\\nitems {iids}.\\n\")"
   ]
  },
  {
   "cell_type": "markdown",
   "metadata": {},
   "source": [
    "Recommendation results are chosen among items in given pool"
   ]
  },
  {
   "cell_type": "markdown",
   "metadata": {},
   "source": [
    "### Find Most similar items"
   ]
  },
  {
   "cell_type": "code",
   "execution_count": 21,
   "metadata": {},
   "outputs": [
    {
     "name": "stdout",
     "output_type": "stream",
     "text": [
      "Similar movies to Toy_Story_2_(1999)\n",
      "01. 0.958 Toy_Story_(1995)\n",
      "02. 0.957 Bug's_Life,_A_(1998)\n",
      "03. 0.949 Shakespeare_in_Love_(1998)\n",
      "04. 0.945 Being_John_Malkovich_(1999)\n",
      "05. 0.935 Sixth_Sense,_The_(1999)\n"
     ]
    }
   ],
   "source": [
    "print('Similar movies to Toy_Story_2_(1999)')\n",
    "similar_items = model.most_similar('Toy_Story_2_(1999)', 5)\n",
    "for rank, (movie_name, score) in enumerate(similar_items):\n",
    "    print(f'{rank + 1:02d}. {score:.3f} {movie_name}')\n"
   ]
  },
  {
   "cell_type": "markdown",
   "metadata": {},
   "source": [
    "### Find Most similar items given pool"
   ]
  },
  {
   "cell_type": "code",
   "execution_count": 22,
   "metadata": {},
   "outputs": [
    {
     "name": "stdout",
     "output_type": "stream",
     "text": [
      "01. 0.467 Shanghai_Noon_(2000)\n",
      "02. 0.435 Frequency_(2000)\n",
      "03. 0.354 Gone_in_60_Seconds_(2000)\n",
      "04. 0.320 28_Days_(2000)\n",
      "05. 0.259 What_Lies_Beneath_(2000)\n",
      "06. 0.186 Final_Destination_(2000)\n"
     ]
    }
   ],
   "source": [
    "pool = ['Rules_of_Engagement_(2000)', \n",
    "        'Remember_the_Titans_(2000)', \n",
    "        'Skulls,_The_(2000)', \n",
    "        '28_Days_(2000)', \n",
    "        'Frequency_(2000)', \n",
    "        'Gone_in_60_Seconds_(2000)', \n",
    "        'What_Lies_Beneath_(2000)', \n",
    "        'Reindeer_Games_(2000)', \n",
    "        'Final_Destination_(2000)', \n",
    "        'Shanghai_Noon_(2000)']\n",
    "similar_items = model.most_similar('Toy_Story_2_(1999)', 5, pool=pool)\n",
    "for rank, (movie_name, score) in enumerate(similar_items):\n",
    "    print(f'{rank + 1:02d}. {score:.3f} {movie_name}')"
   ]
  }
 ],
 "metadata": {
  "kernelspec": {
   "display_name": "Python 3 (ipykernel)",
   "language": "python",
   "name": "python3"
  },
  "language_info": {
   "codemirror_mode": {
    "name": "ipython",
    "version": 3
   },
   "file_extension": ".py",
   "mimetype": "text/x-python",
   "name": "python",
   "nbconvert_exporter": "python",
   "pygments_lexer": "ipython3",
   "version": "3.10.6"
  },
  "vscode": {
   "interpreter": {
    "hash": "31f2aee4e71d21fbe5cf8b01ff0e069b9275f58929596ceb00d14d90e3e16cd6"
   }
  }
 },
 "nbformat": 4,
 "nbformat_minor": 2
}
