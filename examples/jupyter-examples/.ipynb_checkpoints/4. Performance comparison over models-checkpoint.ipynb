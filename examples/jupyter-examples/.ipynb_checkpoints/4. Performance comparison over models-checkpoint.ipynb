{
 "cells": [
  {
   "cell_type": "markdown",
   "metadata": {},
   "source": [
    "## Comparison of models on movielens 1M dataset\n"
   ]
  },
  {
   "cell_type": "code",
   "execution_count": 21,
   "metadata": {},
   "outputs": [],
   "source": [
    "import buffalo\n",
    "from buffalo import ALS, BPRMF, CFR, ALSOption, BPRMFOption, CFROption \n",
    "from buffalo import MatrixMarketOptions, StreamOptions\n",
    "from buffalo import aux, log\n",
    "log.set_log_level(1) # set log level 3 or higher to check more information"
   ]
  },
  {
   "cell_type": "code",
   "execution_count": 22,
   "metadata": {},
   "outputs": [],
   "source": [
    "als_opt = ALSOption().get_default_option()  \n",
    "als_opt.num_workers = 4\n",
    "als_opt.validation = aux.Option({'topk': 10})\n",
    "als_opt.reg_u = 0.06\n",
    "als_opt.reg_i = 0.06\n",
    "\n",
    "bpr_opt = BPRMFOption().get_default_option()\n",
    "bpr_opt.use_bias = False\n",
    "bpr_opt.num_workers = 4\n",
    "bpr_opt.validation = aux.Option({'topk': 10})\n",
    "bpr_opt.reg_u = 0.02\n",
    "bpr_opt.reg_j = bpr_opt.reg_i = 0.02\n",
    "bpr_opt.reg_b = 0.1\n",
    "\n",
    "cfr_opt = CFROption().get_default_option()\n",
    "cfr_opt.num_workers = 4\n",
    "cfr_opt.validation = aux.Option({'topk': 10})\n",
    "cfr_opt.reg_u = 0.06\n",
    "cfr_opt.reg_i = 0.06\n",
    "cfr_opt.reg_c = 0.05"
   ]
  },
  {
   "cell_type": "code",
   "execution_count": 23,
   "metadata": {},
   "outputs": [],
   "source": [
    "data_opt = MatrixMarketOptions().get_default_option()\n",
    "data_opt.input.main = 'data/ml-1m/main.mtx'\n",
    "data_opt.input.iid = 'data/ml-1m/iid'\n",
    "data_opt.input.uid = 'data/ml-1m/uid'\n",
    "data_opt.data.path = '.4_mm.h5py'\n",
    "data_opt.data.validation.p = 0.1\n",
    "data_opt.data.validation.max_samples = 10000"
   ]
  },
  {
   "cell_type": "markdown",
   "metadata": {},
   "source": [
    "To use validation, `opt.validation` must be set like this\n",
    "```python\n",
    "    option.validation = aux.Option({'topk': 10}) # which metric will be used\n",
    "                                                 # if topk is set to be 10, then NDCG@10, MAP@10 is calculated\n",
    "    data_option.data.validation.p # fraction of the validation data\n",
    "    data_option.data.validation.max_samples # the number of maximum validation data\n",
    "```\n",
    "the total number of validation samples is set to be $\\text{min}(\\text{nnz} * p, \\text{max_samples})$"
   ]
  },
  {
   "cell_type": "code",
   "execution_count": 24,
   "metadata": {
    "scrolled": true
   },
   "outputs": [],
   "source": [
    "mm_data = buffalo.data.load(data_opt)\n",
    "mm_data.create()"
   ]
  },
  {
   "cell_type": "code",
   "execution_count": 25,
   "metadata": {},
   "outputs": [],
   "source": [
    "data_opt = StreamOptions().get_default_option()\n",
    "data_opt.data.validation.name = \"sample\"\n",
    "data_opt.data.sppmi = {\"windows\": 5, \"k\": 10}\n",
    "data_opt.input.main = 'data/ml-1m/stream'\n",
    "data_opt.input.uid = 'data/ml-1m/uid'\n",
    "data_opt.input.iid = 'data/ml-1m/iid'\n",
    "data_opt.data.value_prepro = aux.Option({'name': 'OneBased'})\n",
    "data_opt.data.path = '.4_stesam.h5py'\n",
    "data_opt.data.internal_data_type = \"matrix\"\n",
    "data_opt.data.validation.p = 0.1\n",
    "data_opt.data.validation.max_samples = 10000"
   ]
  },
  {
   "cell_type": "code",
   "execution_count": null,
   "metadata": {},
   "outputs": [],
   "source": [
    "stream_data = buffalo.data.load(data_opt)\n",
    "stream_data.create()"
   ]
  },
  {
   "cell_type": "code",
   "execution_count": null,
   "metadata": {
    "scrolled": true
   },
   "outputs": [],
   "source": [
    "als = ALS(als_opt, data=mm_data)\n",
    "als.initialize()"
   ]
  },
  {
   "cell_type": "code",
   "execution_count": null,
   "metadata": {
    "scrolled": true
   },
   "outputs": [],
   "source": [
    "bpr = BPRMF(bpr_opt, data=mm_data)\n",
    "bpr.initialize()"
   ]
  },
  {
   "cell_type": "code",
   "execution_count": null,
   "metadata": {},
   "outputs": [],
   "source": [
    "cfr = CFR(cfr_opt, data=stream_data)\n",
    "cfr.initialize()"
   ]
  },
  {
   "cell_type": "code",
   "execution_count": null,
   "metadata": {},
   "outputs": [],
   "source": [
    "als_res = als.train()"
   ]
  },
  {
   "cell_type": "code",
   "execution_count": null,
   "metadata": {},
   "outputs": [],
   "source": [
    "bpr_res = bpr.train()"
   ]
  },
  {
   "cell_type": "code",
   "execution_count": null,
   "metadata": {},
   "outputs": [],
   "source": [
    "cfr_res = cfr.train()"
   ]
  },
  {
   "cell_type": "code",
   "execution_count": null,
   "metadata": {},
   "outputs": [],
   "source": [
    "cfr_res"
   ]
  },
  {
   "cell_type": "code",
   "execution_count": null,
   "metadata": {},
   "outputs": [],
   "source": [
    "als_res"
   ]
  },
  {
   "cell_type": "code",
   "execution_count": null,
   "metadata": {},
   "outputs": [],
   "source": [
    "bpr_res"
   ]
  }
 ],
 "metadata": {
  "kernelspec": {
   "display_name": "Python 3 (ipykernel)",
   "language": "python",
   "name": "python3"
  },
  "language_info": {
   "codemirror_mode": {
    "name": "ipython",
    "version": 3
   },
   "file_extension": ".py",
   "mimetype": "text/x-python",
   "name": "python",
   "nbconvert_exporter": "python",
   "pygments_lexer": "ipython3",
   "version": "3.10.6"
  },
  "vscode": {
   "interpreter": {
    "hash": "31f2aee4e71d21fbe5cf8b01ff0e069b9275f58929596ceb00d14d90e3e16cd6"
   }
  }
 },
 "nbformat": 4,
 "nbformat_minor": 2
}
